{
 "cells": [
  {
   "cell_type": "code",
   "execution_count": 1,
   "id": "8696ee7c-2f05-4e26-8320-520db446d04b",
   "metadata": {},
   "outputs": [
    {
     "name": "stdout",
     "output_type": "stream",
     "text": [
      "Hey,This is Kalai\n"
     ]
    }
   ],
   "source": [
    "#use of print()\n",
    "#Displaying Information: Shows messages, results, or data during program execution.\n",
    "\n",
    "\n",
    "print(\"Hey,This is Kalai\")"
   ]
  },
  {
   "cell_type": "code",
   "execution_count": 2,
   "id": "13f790eb",
   "metadata": {},
   "outputs": [
    {
     "name": "stdout",
     "output_type": "stream",
     "text": [
      "Value of x: 10\n"
     ]
    }
   ],
   "source": [
    "#Debugging: Helps in inspecting variables or tracking code execution.\n",
    "\n",
    "x = 10\n",
    "print(\"Value of x:\", x)"
   ]
  },
  {
   "cell_type": "code",
   "execution_count": 3,
   "id": "4a987472",
   "metadata": {},
   "outputs": [
    {
     "name": "stdout",
     "output_type": "stream",
     "text": [
      "Value of x: 10.00\n"
     ]
    }
   ],
   "source": [
    "#Formatting Output: Allows formatted text with various options for alignment and precision.\n",
    "\n",
    "print(f\"Value of x: {x:.2f}\")\n"
   ]
  },
  {
   "cell_type": "code",
   "execution_count": 4,
   "id": "fb3a7839-fad8-41db-8795-a807dc9ff3d8",
   "metadata": {},
   "outputs": [
    {
     "name": "stdout",
     "output_type": "stream",
     "text": [
      "Value1, Value2\n"
     ]
    }
   ],
   "source": [
    "#Multiple Values: Prints multiple values separated by spaces or custom separators.\n",
    "\n",
    "print(\"Value1\", \"Value2\", sep=\", \")\n",
    "\n",
    "\n",
    "\n",
    "\n",
    "\n"
   ]
  }
 ],
 "metadata": {
  "kernelspec": {
   "display_name": "Python 3 (ipykernel)",
   "language": "python",
   "name": "python3"
  },
  "language_info": {
   "codemirror_mode": {
    "name": "ipython",
    "version": 3
   },
   "file_extension": ".py",
   "mimetype": "text/x-python",
   "name": "python",
   "nbconvert_exporter": "python",
   "pygments_lexer": "ipython3",
   "version": "3.10.2"
  }
 },
 "nbformat": 4,
 "nbformat_minor": 5
}
